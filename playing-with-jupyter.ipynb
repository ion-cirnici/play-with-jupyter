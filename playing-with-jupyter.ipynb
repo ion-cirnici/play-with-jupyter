{
 "cells": [
  {
   "cell_type": "code",
   "execution_count": 1,
   "id": "829bc28f-e61b-4919-ab2a-dfe2b044d9f9",
   "metadata": {},
   "outputs": [],
   "source": [
    "i = 2\n",
    "j = 4\n",
    "k = j + i"
   ]
  },
  {
   "cell_type": "code",
   "execution_count": 2,
   "id": "0a2ca764-2f12-45c6-bb2e-b6fab71b0cb1",
   "metadata": {},
   "outputs": [
    {
     "data": {
      "text/plain": [
       "6"
      ]
     },
     "execution_count": 2,
     "metadata": {},
     "output_type": "execute_result"
    }
   ],
   "source": [
    "k"
   ]
  },
  {
   "cell_type": "code",
   "execution_count": 33,
   "id": "040733a3-0443-4820-bf01-8a29bf9c57c3",
   "metadata": {},
   "outputs": [
    {
     "name": "stdout",
     "output_type": "stream",
     "text": [
      "now is: 15:40:37.526222\n",
      "2020-05-17 00:00:00\n",
      "Year: 2020\n",
      "Day: Sunday\n",
      "Century: 20\n"
     ]
    }
   ],
   "source": [
    "from datetime import datetime\n",
    "now = datetime.now().time() # time object\n",
    "\n",
    "print(\"now is:\", now)\n",
    "print(x)\n",
    "print(\"Year:\", x.year)\n",
    "print(\"Day:\", x.strftime(\"%A\"))\n",
    "print(\"Century:\", x.strftime(\"%C\"))"
   ]
  },
  {
   "cell_type": "markdown",
   "id": "2673f24d-e2a1-4d21-892b-618a8f912913",
   "metadata": {},
   "source": [
    "# This is MArkdown Heading\n",
    "\n",
    "**Bold text**\n",
    "\n",
    "-  List 1\n",
    "-  List 2\n",
    "-  List 3\n",
    "\n",
    "![](https://www.gmit.ie/sites/default/files/public/styles/homepage_image/public/images/home/cua-homepage-3.jpg?itok=msb7eGM1)"
   ]
  },
  {
   "cell_type": "code",
   "execution_count": null,
   "id": "82697232-586b-48fb-8b48-b6622500454c",
   "metadata": {},
   "outputs": [],
   "source": []
  }
 ],
 "metadata": {
  "kernelspec": {
   "display_name": "Python 3",
   "language": "python",
   "name": "python3"
  },
  "language_info": {
   "codemirror_mode": {
    "name": "ipython",
    "version": 3
   },
   "file_extension": ".py",
   "mimetype": "text/x-python",
   "name": "python",
   "nbconvert_exporter": "python",
   "pygments_lexer": "ipython3",
   "version": "3.8.8"
  }
 },
 "nbformat": 4,
 "nbformat_minor": 5
}
